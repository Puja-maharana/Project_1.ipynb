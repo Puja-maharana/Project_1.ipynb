{
 "cells": [
  {
   "cell_type": "code",
   "execution_count": 32,
   "id": "ea26da77-42f3-4d71-bf00-5bd86c79b9ed",
   "metadata": {},
   "outputs": [],
   "source": [
    "#Q1. Create one variable containing following type of data: (i) string (ii) list (iii) float (iv) tuple"
   ]
  },
  {
   "cell_type": "code",
   "execution_count": 33,
   "id": "d903da73-fbd4-4778-b8c1-ec7f331c2ea0",
   "metadata": {},
   "outputs": [],
   "source": [
    "a = \"Puja\"\n",
    "b = [1,2,20,\"dwiti\",\"abc\"]\n",
    "c = 10.52\n",
    "d = (20,\"sony\",11+2j,[11,55,20])"
   ]
  },
  {
   "cell_type": "code",
   "execution_count": 34,
   "id": "ebd5a072-d243-46b9-ab6b-bdd34cb836cb",
   "metadata": {},
   "outputs": [
    {
     "data": {
      "text/plain": [
       "str"
      ]
     },
     "execution_count": 34,
     "metadata": {},
     "output_type": "execute_result"
    }
   ],
   "source": [
    "type(a)"
   ]
  },
  {
   "cell_type": "code",
   "execution_count": 35,
   "id": "a36015c1-30d3-466c-a899-0844ac5ab503",
   "metadata": {},
   "outputs": [
    {
     "data": {
      "text/plain": [
       "list"
      ]
     },
     "execution_count": 35,
     "metadata": {},
     "output_type": "execute_result"
    }
   ],
   "source": [
    "type(b)"
   ]
  },
  {
   "cell_type": "code",
   "execution_count": 36,
   "id": "affa7661-83c4-4d6e-ba40-03c9320d136e",
   "metadata": {},
   "outputs": [
    {
     "data": {
      "text/plain": [
       "float"
      ]
     },
     "execution_count": 36,
     "metadata": {},
     "output_type": "execute_result"
    }
   ],
   "source": [
    "type(c)"
   ]
  },
  {
   "cell_type": "code",
   "execution_count": 37,
   "id": "c4fd7242-4f51-40f4-a9e5-19fd5347ecfb",
   "metadata": {},
   "outputs": [
    {
     "data": {
      "text/plain": [
       "tuple"
      ]
     },
     "execution_count": 37,
     "metadata": {},
     "output_type": "execute_result"
    }
   ],
   "source": [
    "type(d)"
   ]
  },
  {
   "cell_type": "code",
   "execution_count": 38,
   "id": "c8dca9fa-9b5f-49ca-9c3e-f9300f3ca710",
   "metadata": {},
   "outputs": [],
   "source": [
    "#Q2. Given are some following variables containing data: (i) var1 = ‘ ‘ (ii) var2 = ‘[ DS , ML , Python]’ (iii) var3 = [ ‘DS’ , ’ML’ , ‘Python’ ] (iv) var4 = 1.What will be the data type of the above given variable."
   ]
  },
  {
   "cell_type": "code",
   "execution_count": 39,
   "id": "cc3cb0f1-baf1-4e3f-922d-9e9b446e3e48",
   "metadata": {},
   "outputs": [],
   "source": [
    "var1 = ''\n",
    "var2 = '[ DS , ML , Python]'\n",
    "var3 =  ['DS','ML','Python']\n",
    "var4 = 1."
   ]
  },
  {
   "cell_type": "code",
   "execution_count": 40,
   "id": "6abef151-aa9a-4d1f-bb6f-9aaced21bcdc",
   "metadata": {},
   "outputs": [
    {
     "data": {
      "text/plain": [
       "str"
      ]
     },
     "execution_count": 40,
     "metadata": {},
     "output_type": "execute_result"
    }
   ],
   "source": [
    "type(var1)"
   ]
  },
  {
   "cell_type": "code",
   "execution_count": 41,
   "id": "61685834-2077-4733-a824-3aa2898f4863",
   "metadata": {},
   "outputs": [
    {
     "data": {
      "text/plain": [
       "str"
      ]
     },
     "execution_count": 41,
     "metadata": {},
     "output_type": "execute_result"
    }
   ],
   "source": [
    "type(var2)"
   ]
  },
  {
   "cell_type": "code",
   "execution_count": 42,
   "id": "81c470c8-99b8-467e-be2c-08fcf52a7721",
   "metadata": {},
   "outputs": [
    {
     "data": {
      "text/plain": [
       "list"
      ]
     },
     "execution_count": 42,
     "metadata": {},
     "output_type": "execute_result"
    }
   ],
   "source": [
    "type(var3)"
   ]
  },
  {
   "cell_type": "code",
   "execution_count": 43,
   "id": "82ad34be-cf61-4bd2-8d9b-7dea4f8b4152",
   "metadata": {},
   "outputs": [
    {
     "data": {
      "text/plain": [
       "float"
      ]
     },
     "execution_count": 43,
     "metadata": {},
     "output_type": "execute_result"
    }
   ],
   "source": [
    "type(var4)"
   ]
  },
  {
   "cell_type": "code",
   "execution_count": 44,
   "id": "613ba334-fe2d-4274-971f-7beb99e2ac79",
   "metadata": {},
   "outputs": [],
   "source": [
    "#Q3. Explain the use of the following operators using an example: (i) / (ii) % (iii) // (iv) **"
   ]
  },
  {
   "cell_type": "code",
   "execution_count": 45,
   "id": "d9eaac26-6227-41a6-b316-2c66d70abcdc",
   "metadata": {},
   "outputs": [
    {
     "data": {
      "text/plain": [
       "10.0"
      ]
     },
     "execution_count": 45,
     "metadata": {},
     "output_type": "execute_result"
    }
   ],
   "source": [
    "# / is division operator\n",
    "20/2"
   ]
  },
  {
   "cell_type": "code",
   "execution_count": 46,
   "id": "75b7d4d9-4401-4666-88b7-ce25e2c117c7",
   "metadata": {},
   "outputs": [
    {
     "data": {
      "text/plain": [
       "0"
      ]
     },
     "execution_count": 46,
     "metadata": {},
     "output_type": "execute_result"
    }
   ],
   "source": [
    "# % is the module operator tell us the remainder of the division\n",
    "20%2"
   ]
  },
  {
   "cell_type": "code",
   "execution_count": 48,
   "id": "8b2b613a-370e-4faf-9499-8d138e864260",
   "metadata": {},
   "outputs": [
    {
     "data": {
      "text/plain": [
       "10"
      ]
     },
     "execution_count": 48,
     "metadata": {},
     "output_type": "execute_result"
    }
   ],
   "source": [
    "# // floor division module\n",
    "20//2"
   ]
  },
  {
   "cell_type": "code",
   "execution_count": 51,
   "id": "6a7d18d8-c28b-403d-9a75-15617dc6fcc5",
   "metadata": {},
   "outputs": [
    {
     "data": {
      "text/plain": [
       "125"
      ]
     },
     "execution_count": 51,
     "metadata": {},
     "output_type": "execute_result"
    }
   ],
   "source": [
    "# ** is the power operator \n",
    "5**3"
   ]
  },
  {
   "cell_type": "code",
   "execution_count": 47,
   "id": "00db6f59-e553-4942-89aa-26ebbd2e86e2",
   "metadata": {},
   "outputs": [],
   "source": [
    "#Q4. Create a list of length 10 of your choice containing multiple types of data. Using for loop print the element and its data type."
   ]
  },
  {
   "cell_type": "code",
   "execution_count": 56,
   "id": "e7d7afa9-e3e1-44bc-9ed0-8a3a9535dd00",
   "metadata": {},
   "outputs": [],
   "source": [
    "l = [11,63,\"flower\",\"fruit\",253,10.43,21,\"bus\",7,\"kurkuri\"]\n"
   ]
  },
  {
   "cell_type": "code",
   "execution_count": 57,
   "id": "f9dda5be-7b25-44dc-bf56-9b623c774a91",
   "metadata": {},
   "outputs": [
    {
     "data": {
      "text/plain": [
       "10"
      ]
     },
     "execution_count": 57,
     "metadata": {},
     "output_type": "execute_result"
    }
   ],
   "source": [
    "len(l)"
   ]
  },
  {
   "cell_type": "code",
   "execution_count": 58,
   "id": "1be35fab-c43d-41da-bbbc-6db9dd6e26c5",
   "metadata": {},
   "outputs": [
    {
     "name": "stdout",
     "output_type": "stream",
     "text": [
      "Element :  11 \n",
      "Data type : <class 'int'>\n",
      "Element :  63 \n",
      "Data type : <class 'int'>\n",
      "Element :  flower \n",
      "Data type : <class 'str'>\n",
      "Element :  fruit \n",
      "Data type : <class 'str'>\n",
      "Element :  253 \n",
      "Data type : <class 'int'>\n",
      "Element :  10.43 \n",
      "Data type : <class 'float'>\n",
      "Element :  21 \n",
      "Data type : <class 'int'>\n",
      "Element :  bus \n",
      "Data type : <class 'str'>\n",
      "Element :  7 \n",
      "Data type : <class 'int'>\n",
      "Element :  kurkuri \n",
      "Data type : <class 'str'>\n",
      "sucessfuly iterated across all the elements\n"
     ]
    }
   ],
   "source": [
    "for i in l :\n",
    "    print(\"Element : \" ,i,\"\\nData type :\", type(i))\n",
    "else:\n",
    "    print(\"sucessfuly iterated across all the elements\")"
   ]
  },
  {
   "cell_type": "code",
   "execution_count": 59,
   "id": "968a3534-83e0-4e8a-9e08-4009d0384f3a",
   "metadata": {},
   "outputs": [],
   "source": [
    "#Q5. Using a while loop, verify if the number A is purely divisible by number B and if so then how many times it can be divisible."
   ]
  },
  {
   "cell_type": "code",
   "execution_count": 60,
   "id": "3eea71b4-9a9c-4ef9-bfe0-5248be2ed6af",
   "metadata": {},
   "outputs": [
    {
     "name": "stdout",
     "output_type": "stream",
     "text": [
      "20 is purely divisible by  4 and is divisible  5 times\n"
     ]
    }
   ],
   "source": [
    "a = 20\n",
    "b = 4\n",
    "while a%b==0 :\n",
    "    print(a,\"is purely divisible by \" , b ,\"and is divisible \",int((a/b)), \"times\")\n",
    "    break\n",
    "else:\n",
    "    print(a , \"is not purely divisible by \", b)"
   ]
  },
  {
   "cell_type": "code",
   "execution_count": 61,
   "id": "039e8d6a-97fc-47c3-8885-351adc82207b",
   "metadata": {},
   "outputs": [],
   "source": [
    "#Q6. Create a list containing 25 int type data. Using for loop and if-else condition print if the element is divisible by 3 or not."
   ]
  },
  {
   "cell_type": "code",
   "execution_count": 64,
   "id": "298bc33e-c256-4940-a055-00b2da4eebc0",
   "metadata": {},
   "outputs": [
    {
     "name": "stdout",
     "output_type": "stream",
     "text": [
      "1 is not divisible by 3\n",
      "2 is not divisible by 3\n",
      "3 is not divisible by 3\n",
      "4 is not divisible by 3\n",
      "5 is not divisible by 3\n",
      "6 is not divisible by 3\n",
      "7 is not divisible by 3\n",
      "8 is not divisible by 3\n",
      "9 is not divisible by 3\n",
      "10 is not divisible by 3\n",
      "11 is not divisible by 3\n",
      "12 is not divisible by 3\n",
      "13 is not divisible by 3\n",
      "14 is not divisible by 3\n",
      "15 is not divisible by 3\n",
      "16 is not divisible by 3\n",
      "17 is not divisible by 3\n",
      "18 is not divisible by 3\n",
      "19 is not divisible by 3\n",
      "20 is not divisible by 3\n",
      "21 is not divisible by 3\n",
      "22 is not divisible by 3\n",
      "23 is not divisible by 3\n",
      "24 is not divisible by 3\n",
      "25 is not divisible by 3\n"
     ]
    }
   ],
   "source": [
    "for i in range (1,26) :\n",
    "    if (i%3 == 0):\n",
    "        print(f\"{i} is not divisible by 3\")\n",
    "    else :\n",
    "            print(f\"{i} is not divisible by 3\")"
   ]
  },
  {
   "cell_type": "code",
   "execution_count": 65,
   "id": "3916632f-1d76-437a-abc2-5692ee3de2e0",
   "metadata": {},
   "outputs": [],
   "source": [
    "#Q7. What do you understand about mutable and immutable data types? Give examples for both showing this property."
   ]
  },
  {
   "cell_type": "code",
   "execution_count": 66,
   "id": "e06c4d2d-855c-4ef5-aa02-e61bd0fc644f",
   "metadata": {},
   "outputs": [],
   "source": [
    "#A mutable object can be changed after it's created, and an immutable object can't changed."
   ]
  },
  {
   "cell_type": "code",
   "execution_count": 67,
   "id": "ee6a0443-e3b3-4637-8566-1ca8ef9e6102",
   "metadata": {},
   "outputs": [],
   "source": [
    "name = \"puja\""
   ]
  },
  {
   "cell_type": "code",
   "execution_count": 68,
   "id": "b93d7251-5413-41a6-8124-ec678740b120",
   "metadata": {},
   "outputs": [],
   "source": [
    "list = [40,10,\"apple\",\"group\",3]"
   ]
  },
  {
   "cell_type": "code",
   "execution_count": 69,
   "id": "528ecf10-2bec-4460-a954-43471d89dc80",
   "metadata": {},
   "outputs": [
    {
     "data": {
      "text/plain": [
       "'j'"
      ]
     },
     "execution_count": 69,
     "metadata": {},
     "output_type": "execute_result"
    }
   ],
   "source": [
    "name[2]"
   ]
  },
  {
   "cell_type": "code",
   "execution_count": 71,
   "id": "74e61efb-de61-4603-91e0-79206b305e5c",
   "metadata": {},
   "outputs": [
    {
     "data": {
      "text/plain": [
       "'a'"
      ]
     },
     "execution_count": 71,
     "metadata": {},
     "output_type": "execute_result"
    }
   ],
   "source": [
    "name[3]"
   ]
  },
  {
   "cell_type": "code",
   "execution_count": 72,
   "id": "050cac68-1b81-4692-8cc7-9c4d69380995",
   "metadata": {},
   "outputs": [
    {
     "data": {
      "text/plain": [
       "3"
      ]
     },
     "execution_count": 72,
     "metadata": {},
     "output_type": "execute_result"
    }
   ],
   "source": [
    "list[4]"
   ]
  },
  {
   "cell_type": "code",
   "execution_count": 73,
   "id": "d2b08a13-6d6e-4157-afdf-349ececafada",
   "metadata": {},
   "outputs": [
    {
     "data": {
      "text/plain": [
       "'apple'"
      ]
     },
     "execution_count": 73,
     "metadata": {},
     "output_type": "execute_result"
    }
   ],
   "source": [
    "list[2]"
   ]
  },
  {
   "cell_type": "code",
   "execution_count": null,
   "id": "3ab763f9-22fc-4492-a952-a4b260f9e740",
   "metadata": {},
   "outputs": [],
   "source": []
  }
 ],
 "metadata": {
  "kernelspec": {
   "display_name": "Python 3 (ipykernel)",
   "language": "python",
   "name": "python3"
  },
  "language_info": {
   "codemirror_mode": {
    "name": "ipython",
    "version": 3
   },
   "file_extension": ".py",
   "mimetype": "text/x-python",
   "name": "python",
   "nbconvert_exporter": "python",
   "pygments_lexer": "ipython3",
   "version": "3.10.8"
  }
 },
 "nbformat": 4,
 "nbformat_minor": 5
}
